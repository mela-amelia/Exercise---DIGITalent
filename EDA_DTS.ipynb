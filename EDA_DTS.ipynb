{
 "cells": [
  {
   "cell_type": "markdown",
   "id": "existing-design",
   "metadata": {},
   "source": [
    "<h2>Cek Direktori </h2>"
   ]
  },
  {
   "cell_type": "code",
   "execution_count": null,
   "id": "thick-launch",
   "metadata": {},
   "outputs": [],
   "source": [
    "import os"
   ]
  },
  {
   "cell_type": "code",
   "execution_count": null,
   "id": "tracked-parker",
   "metadata": {},
   "outputs": [],
   "source": [
    "os.getcwd()"
   ]
  },
  {
   "cell_type": "code",
   "execution_count": null,
   "id": "applicable-services",
   "metadata": {},
   "outputs": [],
   "source": [
    "os.chdir('C:\\\\Users\\\\hp\\\\Documents\\\\KOMINFO_PROA')"
   ]
  },
  {
   "cell_type": "code",
   "execution_count": null,
   "id": "hydraulic-bulgaria",
   "metadata": {},
   "outputs": [],
   "source": [
    "pwd"
   ]
  },
  {
   "cell_type": "markdown",
   "id": "traditional-murray",
   "metadata": {},
   "source": [
    "<h2>1. Retrieve Data </h2>"
   ]
  },
  {
   "cell_type": "code",
   "execution_count": null,
   "id": "stupid-glenn",
   "metadata": {},
   "outputs": [],
   "source": [
    "#pip install pandas\n",
    "#pip install numpy\n",
    "#pip install matplotlib\n",
    "#pip install seaborn\n",
    "#pip instal scipy"
   ]
  },
  {
   "cell_type": "code",
   "execution_count": null,
   "id": "right-adjustment",
   "metadata": {},
   "outputs": [],
   "source": [
    "#import librray\n",
    "import pandas as pd\n",
    "import numpy as np\n",
    "import matplotlib.pyplot as plt\n",
    "import seaborn as sns\n",
    "import scipy\n",
    "%matplotlib inline "
   ]
  },
  {
   "cell_type": "code",
   "execution_count": null,
   "id": "controversial-penetration",
   "metadata": {},
   "outputs": [],
   "source": [
    "#https://www.kaggle.com/toramky/eda-for-automobile-dataset/data\n",
    "#retrieve data\n",
    "df = pd.read_csv(r'Automobile_data.txt')"
   ]
  },
  {
   "cell_type": "code",
   "execution_count": null,
   "id": "identified-detection",
   "metadata": {
    "scrolled": true
   },
   "outputs": [],
   "source": [
    "#inspeksi 5 data teratas\n",
    "df.head(10)"
   ]
  },
  {
   "cell_type": "code",
   "execution_count": null,
   "id": "pressed-collection",
   "metadata": {},
   "outputs": [],
   "source": [
    "df.columns"
   ]
  },
  {
   "cell_type": "markdown",
   "id": "injured-happening",
   "metadata": {},
   "source": [
    "<h2 id=\"import_data\">2. Cleaning Data</h2>"
   ]
  },
  {
   "cell_type": "markdown",
   "id": "reduced-parameter",
   "metadata": {},
   "source": [
    "<b>Cek nilai kosong:</b>"
   ]
  },
  {
   "cell_type": "code",
   "execution_count": null,
   "id": "united-field",
   "metadata": {
    "scrolled": true
   },
   "outputs": [],
   "source": [
    "#cek missing value\n",
    "df.isnull().sum()"
   ]
  },
  {
   "cell_type": "markdown",
   "id": "blocked-directory",
   "metadata": {},
   "source": [
    "<b>Cek isi dari kolom:</b>"
   ]
  },
  {
   "cell_type": "code",
   "execution_count": null,
   "id": "center-league",
   "metadata": {},
   "outputs": [],
   "source": [
    "#cek isi data\n",
    "for columns in df:\n",
    "    print(df[[columns]].value_counts())"
   ]
  },
  {
   "cell_type": "code",
   "execution_count": null,
   "id": "standard-architecture",
   "metadata": {
    "scrolled": false
   },
   "outputs": [],
   "source": [
    "#ganti tanda tanya dengan nan\n",
    "df.replace(\"?\", np.NaN, inplace = True)\n",
    "df.head(5)"
   ]
  },
  {
   "cell_type": "code",
   "execution_count": null,
   "id": "rough-ultimate",
   "metadata": {},
   "outputs": [],
   "source": [
    "df.isnull().sum()"
   ]
  },
  {
   "cell_type": "code",
   "execution_count": null,
   "id": "meaning-intervention",
   "metadata": {},
   "outputs": [],
   "source": [
    "df.isnull()"
   ]
  },
  {
   "cell_type": "markdown",
   "id": "emotional-details",
   "metadata": {},
   "source": [
    "<b>Jumlah nilai kosong per kolom:</b>\n",
    "<ol>\n",
    "    <li>\"normalized-losses\": 41 nilai kosong</li>\n",
    "    <li>\"num-of-doors\": 2 nilai kosong</li>\n",
    "    <li>\"bore\": 4 nilai kosong</li>\n",
    "    <li>\"stroke\" : 4 nilai kosong</li>\n",
    "    <li>\"horsepower\": 2 nilai kosong</li>\n",
    "    <li>\"peak-rpm\": 2 nilai kosong</li>\n",
    "    <li>\"price\": 4 nilai kosong</li>\n",
    "</ol>"
   ]
  },
  {
   "cell_type": "markdown",
   "id": "otherwise-literacy",
   "metadata": {},
   "source": [
    "<b>Ganti dengan Mean:</b>\n",
    "\n",
    "<ol>\n",
    "    <li>\"normalized-losses\"</li>\n",
    "    <li>\"stroke\"</li>\n",
    "    <li>\"bore</li>\n",
    "    <li>\"horsepower\"</li>\n",
    "    <li>\"peak-rpm\"</li>\n",
    "</ol>\n",
    "\n",
    "<b>Ganti dengan freq/modus:</b>\n",
    "\n",
    "<ol>\n",
    "    <li>\"num-of-doors\" \n",
    "    </li>\n",
    "</ol>\n",
    "\n",
    "<b>Hapus Baris:</b>\n",
    "\n",
    "<ol>\n",
    "    <li>\"price\"\n",
    "    </li>\n",
    "</ol>\n"
   ]
  },
  {
   "cell_type": "code",
   "execution_count": null,
   "id": "noted-outreach",
   "metadata": {
    "scrolled": true
   },
   "outputs": [],
   "source": [
    "#rata-rata kerugian normal\n",
    "avg_norm_loss = df[\"normalized-losses\"].astype(\"float\").mean(axis=0)\n",
    "print(\"Average of normalized-losses:\", avg_norm_loss)\n",
    "df[\"normalized-losses\"].replace(np.NaN, avg_norm_loss, inplace=True)\n",
    "\n",
    "\n",
    "avg_bore=df['bore'].astype('float').mean(axis=0)\n",
    "print(\"Average of bore:\", avg_bore)\n",
    "df[\"bore\"].replace(np.NaN, avg_bore, inplace=True)\n",
    "\n",
    "\n",
    "avg_stroke = df[\"stroke\"].astype(\"float\").mean(axis = 0)\n",
    "print(\"Average of stroke:\", avg_stroke)\n",
    "df[\"stroke\"].replace(np.NaN, avg_stroke, inplace = True)\n",
    "\n",
    "\n",
    "avg_horsepower = df['horsepower'].astype('float').mean(axis=0)\n",
    "print(\"Average horsepower:\", avg_horsepower)\n",
    "df['horsepower'].replace(np.NaN, avg_horsepower, inplace=True)\n",
    "\n",
    "\n",
    "avg_peakrpm=df['peak-rpm'].astype('float').mean(axis=0)\n",
    "print(\"Average peak rpm:\", avg_peakrpm)\n",
    "df['peak-rpm'].replace(np.NaN, avg_peakrpm, inplace=True)"
   ]
  },
  {
   "cell_type": "code",
   "execution_count": null,
   "id": "certified-african",
   "metadata": {
    "scrolled": true
   },
   "outputs": [],
   "source": [
    "df['num-of-doors'].value_counts()"
   ]
  },
  {
   "cell_type": "code",
   "execution_count": null,
   "id": "extreme-ordering",
   "metadata": {},
   "outputs": [],
   "source": [
    "df['num-of-doors'].value_counts().idxmax()"
   ]
  },
  {
   "cell_type": "code",
   "execution_count": null,
   "id": "palestinian-islam",
   "metadata": {},
   "outputs": [],
   "source": [
    "df[\"num-of-doors\"].replace(np.nan, \"four\", inplace=True)\n",
    "\n",
    "df.dropna(subset=[\"price\"], axis=0, inplace=True)\n",
    "\n",
    "df.reset_index(drop=True, inplace=True)"
   ]
  },
  {
   "cell_type": "code",
   "execution_count": null,
   "id": "tutorial-opening",
   "metadata": {},
   "outputs": [],
   "source": [
    "df.head()"
   ]
  },
  {
   "cell_type": "markdown",
   "id": "limited-boxing",
   "metadata": {},
   "source": [
    "<h2 id=\"import_data\">3. Exploratory Data Analysis</h2>"
   ]
  },
  {
   "cell_type": "code",
   "execution_count": null,
   "id": "welcome-arnold",
   "metadata": {},
   "outputs": [],
   "source": [
    "#inspeksi jumlah baris dan kolom\n",
    "print (\"jumlah baris dan kolom\")\n",
    "print(df.shape)\n",
    "print(\"\")\n",
    "\n",
    "#inspeksi type data\n",
    "print(\"Type Data :\")\n",
    "print(df.dtypes)\n",
    "\n",
    "#describe\n",
    "print(\"Describe:\")\n",
    "print(df.describe())"
   ]
  },
  {
   "cell_type": "code",
   "execution_count": null,
   "id": "frank-cookie",
   "metadata": {},
   "outputs": [],
   "source": [
    "df.info()"
   ]
  },
  {
   "cell_type": "code",
   "execution_count": null,
   "id": "circular-truck",
   "metadata": {},
   "outputs": [],
   "source": [
    "#df.describe()\n",
    "#df.describe(include=\"all\")\n",
    "df.describe(include=\"object\")"
   ]
  },
  {
   "cell_type": "code",
   "execution_count": null,
   "id": "pleasant-thriller",
   "metadata": {},
   "outputs": [],
   "source": [
    "#mengganti tipe data\n",
    "df[[\"normalized-losses\"]] = df[[\"normalized-losses\"]].astype(\"int\")\n",
    "df[[\"bore\"]] = df[[\"bore\"]].astype(\"float\")\n",
    "df[[\"stroke\"]] = df[[\"stroke\"]].astype(\"float\")\n",
    "df[[\"price\"]] = df[[\"price\"]].astype(\"float\")\n",
    "df[[\"horsepower\"]] = df[[\"horsepower\"]].astype(\"int\")\n",
    "df[[\"peak-rpm\"]] = df[[\"peak-rpm\"]].astype(\"float\")\n",
    "df[[\"price\"]] = df[[\"price\"]].astype(\"float\")"
   ]
  },
  {
   "cell_type": "code",
   "execution_count": null,
   "id": "measured-macintosh",
   "metadata": {
    "scrolled": false
   },
   "outputs": [],
   "source": [
    "df.head()"
   ]
  },
  {
   "cell_type": "code",
   "execution_count": null,
   "id": "alive-technology",
   "metadata": {
    "scrolled": true
   },
   "outputs": [],
   "source": [
    "df.describe()"
   ]
  },
  {
   "cell_type": "code",
   "execution_count": null,
   "id": "seeing-season",
   "metadata": {
    "scrolled": true
   },
   "outputs": [],
   "source": [
    "df.dtypes.sort_values()"
   ]
  },
  {
   "cell_type": "markdown",
   "id": "cleared-prototype",
   "metadata": {},
   "source": [
    "### Statistika Deskriptif"
   ]
  },
  {
   "cell_type": "markdown",
   "id": "monetary-carol",
   "metadata": {},
   "source": [
    "1. Value Counts\n",
    "2. Group by\n",
    "3. Pivot"
   ]
  },
  {
   "cell_type": "code",
   "execution_count": null,
   "id": "deluxe-planet",
   "metadata": {},
   "outputs": [],
   "source": [
    "#kolom drive-wheels\n",
    "df['drive-wheels'].value_counts().to_frame()"
   ]
  },
  {
   "cell_type": "code",
   "execution_count": null,
   "id": "parallel-combination",
   "metadata": {},
   "outputs": [],
   "source": [
    "#kolom engine-type\n",
    "df['engine-type'].value_counts().to_frame()"
   ]
  },
  {
   "cell_type": "code",
   "execution_count": null,
   "id": "sustained-camcorder",
   "metadata": {
    "scrolled": false
   },
   "outputs": [],
   "source": [
    "#kolom aspiration\n",
    "df['aspiration'].value_counts().to_frame()"
   ]
  },
  {
   "cell_type": "code",
   "execution_count": null,
   "id": "decreased-banner",
   "metadata": {},
   "outputs": [],
   "source": [
    "df[['make','price']].groupby('make').agg('mean').sort_values(['price'], ascending = False)"
   ]
  },
  {
   "cell_type": "code",
   "execution_count": null,
   "id": "arranged-arena",
   "metadata": {},
   "outputs": [],
   "source": [
    "df[['make','num-of-doors','price']].groupby(['make','num-of-doors']).agg('mean').sort_values(['price'], ascending = False)"
   ]
  },
  {
   "cell_type": "code",
   "execution_count": null,
   "id": "resident-restoration",
   "metadata": {},
   "outputs": [],
   "source": [
    "df[['fuel-type','price']].groupby('fuel-type').agg('mean')"
   ]
  },
  {
   "cell_type": "code",
   "execution_count": null,
   "id": "compound-walter",
   "metadata": {},
   "outputs": [],
   "source": [
    "df[['make','city-mpg','highway-mpg']].groupby('make').agg('mean').sort_values(['city-mpg'], ascending = False)"
   ]
  },
  {
   "cell_type": "code",
   "execution_count": null,
   "id": "italic-decade",
   "metadata": {},
   "outputs": [],
   "source": [
    "df[['fuel-type','price']].groupby('fuel-type').agg('mean').sort_values(['price'], ascending=False)"
   ]
  },
  {
   "cell_type": "code",
   "execution_count": null,
   "id": "voluntary-vitamin",
   "metadata": {},
   "outputs": [],
   "source": [
    "df[['fuel-type','body-style','price']].groupby(['fuel-type','body-style']).agg('mean').sort_values(['fuel-type','price'], ascending=False)"
   ]
  },
  {
   "cell_type": "code",
   "execution_count": null,
   "id": "formed-restaurant",
   "metadata": {},
   "outputs": [],
   "source": [
    "df1 = df['drive-wheels'].value_counts().to_frame()"
   ]
  },
  {
   "cell_type": "code",
   "execution_count": null,
   "id": "dirty-baptist",
   "metadata": {},
   "outputs": [],
   "source": [
    "df1"
   ]
  },
  {
   "cell_type": "code",
   "execution_count": null,
   "id": "expressed-calcium",
   "metadata": {},
   "outputs": [],
   "source": [
    "df1['persentase']=100*df1['drive-wheels']/df1['drive-wheels'].sum()"
   ]
  },
  {
   "cell_type": "code",
   "execution_count": null,
   "id": "written-corruption",
   "metadata": {},
   "outputs": [],
   "source": [
    "df1"
   ]
  },
  {
   "cell_type": "code",
   "execution_count": null,
   "id": "veterinary-nashville",
   "metadata": {},
   "outputs": [],
   "source": [
    "df2=df[df['make']=='mitsubishi']"
   ]
  },
  {
   "cell_type": "code",
   "execution_count": null,
   "id": "simple-quilt",
   "metadata": {},
   "outputs": [],
   "source": [
    "df2"
   ]
  },
  {
   "cell_type": "code",
   "execution_count": null,
   "id": "organic-arbor",
   "metadata": {},
   "outputs": [],
   "source": [
    "df2[['body-style','price']].groupby('body-style').agg('mean').sort_values(['price'], ascending=False)"
   ]
  },
  {
   "cell_type": "code",
   "execution_count": null,
   "id": "vocal-kinase",
   "metadata": {},
   "outputs": [],
   "source": [
    "# grouping results\n",
    "df3 = df[['drive-wheels','body-style','price']]\n",
    "df3 = df3.groupby(['drive-wheels','body-style'],as_index=False).mean()\n"
   ]
  },
  {
   "cell_type": "code",
   "execution_count": null,
   "id": "innocent-future",
   "metadata": {},
   "outputs": [],
   "source": [
    "df3.pivot(index='drive-wheels',columns='body-style')"
   ]
  },
  {
   "cell_type": "code",
   "execution_count": null,
   "id": "recorded-desperate",
   "metadata": {},
   "outputs": [],
   "source": [
    "# grouping results\n",
    "df4 = df[['make','engine-location','price']]\n",
    "df4 = df4.groupby(['make','engine-location'],as_index=False).sum()"
   ]
  },
  {
   "cell_type": "code",
   "execution_count": null,
   "id": "qualified-slovakia",
   "metadata": {},
   "outputs": [],
   "source": [
    "df4.pivot(index='make',columns='engine-location')"
   ]
  },
  {
   "cell_type": "markdown",
   "id": "architectural-isolation",
   "metadata": {},
   "source": [
    "### Visualisasi\n"
   ]
  },
  {
   "cell_type": "markdown",
   "id": "immune-calculator",
   "metadata": {},
   "source": [
    "#### Histogram\n"
   ]
  },
  {
   "cell_type": "code",
   "execution_count": null,
   "id": "terminal-suspension",
   "metadata": {
    "scrolled": true
   },
   "outputs": [],
   "source": [
    "df['normalized-losses'].hist(bins=10)"
   ]
  },
  {
   "cell_type": "code",
   "execution_count": null,
   "id": "fluid-weight",
   "metadata": {},
   "outputs": [],
   "source": [
    "df.skew()"
   ]
  },
  {
   "cell_type": "code",
   "execution_count": null,
   "id": "copyrighted-bleeding",
   "metadata": {
    "scrolled": true
   },
   "outputs": [],
   "source": [
    "df['price'].hist(bins=30)"
   ]
  },
  {
   "cell_type": "code",
   "execution_count": null,
   "id": "rubber-heading",
   "metadata": {},
   "outputs": [],
   "source": [
    "df['price'].skew()"
   ]
  },
  {
   "cell_type": "code",
   "execution_count": null,
   "id": "smooth-water",
   "metadata": {},
   "outputs": [],
   "source": [
    "df['price'].median()"
   ]
  },
  {
   "cell_type": "code",
   "execution_count": null,
   "id": "revolutionary-lingerie",
   "metadata": {},
   "outputs": [],
   "source": [
    "df['price'].mean()"
   ]
  },
  {
   "cell_type": "code",
   "execution_count": null,
   "id": "comparable-bloom",
   "metadata": {},
   "outputs": [],
   "source": [
    "df['horsepower'].hist(bins=20)"
   ]
  },
  {
   "cell_type": "code",
   "execution_count": null,
   "id": "resistant-writer",
   "metadata": {},
   "outputs": [],
   "source": [
    "df['bore'].hist(bins=10)"
   ]
  },
  {
   "cell_type": "code",
   "execution_count": null,
   "id": "chronic-entrance",
   "metadata": {},
   "outputs": [],
   "source": [
    "df['bore'].skew()"
   ]
  },
  {
   "cell_type": "code",
   "execution_count": null,
   "id": "willing-brooks",
   "metadata": {},
   "outputs": [],
   "source": [
    "df['stroke'].hist(bins=20)"
   ]
  },
  {
   "cell_type": "code",
   "execution_count": null,
   "id": "elegant-hands",
   "metadata": {},
   "outputs": [],
   "source": [
    "df['stroke'].skew()"
   ]
  },
  {
   "cell_type": "markdown",
   "id": "large-processor",
   "metadata": {},
   "source": [
    "#### Boxplot\n"
   ]
  },
  {
   "cell_type": "code",
   "execution_count": null,
   "id": "surprised-thomson",
   "metadata": {
    "scrolled": true
   },
   "outputs": [],
   "source": [
    "plt.figure(figsize=(16, 6))\n",
    "sns.boxplot(x=\"make\", y=\"price\", data=df)"
   ]
  },
  {
   "cell_type": "code",
   "execution_count": null,
   "id": "eastern-cameroon",
   "metadata": {},
   "outputs": [],
   "source": [
    "sns.boxplot(x=\"body-style\", y=\"price\", data=df)"
   ]
  },
  {
   "cell_type": "code",
   "execution_count": null,
   "id": "impressed-bronze",
   "metadata": {},
   "outputs": [],
   "source": [
    "sns.boxplot(x=\"engine-location\", y=\"price\", data=df)"
   ]
  },
  {
   "cell_type": "code",
   "execution_count": null,
   "id": "functioning-knock",
   "metadata": {
    "scrolled": true
   },
   "outputs": [],
   "source": [
    "# drive-wheels\n",
    "sns.boxplot(x=\"drive-wheels\", y=\"price\", data=df)"
   ]
  },
  {
   "cell_type": "markdown",
   "id": "growing-pledge",
   "metadata": {},
   "source": [
    "#### Regplot\n"
   ]
  },
  {
   "cell_type": "code",
   "execution_count": null,
   "id": "greatest-skill",
   "metadata": {},
   "outputs": [],
   "source": [
    "df.describe()"
   ]
  },
  {
   "cell_type": "code",
   "execution_count": null,
   "id": "criminal-recall",
   "metadata": {},
   "outputs": [],
   "source": [
    "sns.regplot(x=\"normalized-losses\", y=\"price\", data=df)"
   ]
  },
  {
   "cell_type": "code",
   "execution_count": null,
   "id": "alert-suggestion",
   "metadata": {},
   "outputs": [],
   "source": [
    "df[[\"normalized-losses\", \"price\"]].corr()"
   ]
  },
  {
   "cell_type": "code",
   "execution_count": null,
   "id": "entitled-perfume",
   "metadata": {},
   "outputs": [],
   "source": [
    "sns.regplot(x=\"wheel-base\", y=\"price\", data=df)"
   ]
  },
  {
   "cell_type": "code",
   "execution_count": null,
   "id": "reflected-anchor",
   "metadata": {},
   "outputs": [],
   "source": [
    "df[[\"wheel-base\", \"price\"]].corr()"
   ]
  },
  {
   "cell_type": "code",
   "execution_count": null,
   "id": "pediatric-geometry",
   "metadata": {
    "scrolled": true
   },
   "outputs": [],
   "source": [
    "sns.regplot(x=\"length\", y=\"price\", data=df)"
   ]
  },
  {
   "cell_type": "code",
   "execution_count": null,
   "id": "southeast-cruise",
   "metadata": {},
   "outputs": [],
   "source": [
    "df[[\"length\",\"price\"]].corr()"
   ]
  },
  {
   "cell_type": "code",
   "execution_count": null,
   "id": "downtown-tuning",
   "metadata": {},
   "outputs": [],
   "source": [
    "sns.regplot(x=\"width\", y=\"price\", data=df)"
   ]
  },
  {
   "cell_type": "code",
   "execution_count": null,
   "id": "expected-style",
   "metadata": {},
   "outputs": [],
   "source": [
    "df[[\"width\",\"price\"]].corr()"
   ]
  },
  {
   "cell_type": "code",
   "execution_count": null,
   "id": "increased-humidity",
   "metadata": {},
   "outputs": [],
   "source": [
    "sns.regplot(x=\"height\", y=\"price\", data=df)"
   ]
  },
  {
   "cell_type": "code",
   "execution_count": null,
   "id": "altered-attendance",
   "metadata": {},
   "outputs": [],
   "source": [
    "df[[\"height\",\"price\"]].corr()"
   ]
  },
  {
   "cell_type": "code",
   "execution_count": null,
   "id": "loving-shore",
   "metadata": {},
   "outputs": [],
   "source": [
    "sns.regplot(x=\"bore\", y=\"price\", data=df)"
   ]
  },
  {
   "cell_type": "code",
   "execution_count": null,
   "id": "gothic-personal",
   "metadata": {},
   "outputs": [],
   "source": [
    "df[[\"bore\",\"price\"]].corr()"
   ]
  },
  {
   "cell_type": "code",
   "execution_count": null,
   "id": "expressed-romance",
   "metadata": {},
   "outputs": [],
   "source": [
    "sns.regplot(x=\"peak-rpm\", y=\"price\", data=df)"
   ]
  },
  {
   "cell_type": "code",
   "execution_count": null,
   "id": "romantic-exploration",
   "metadata": {},
   "outputs": [],
   "source": [
    "df[[\"peak-rpm\",\"price\"]].corr()"
   ]
  },
  {
   "cell_type": "code",
   "execution_count": null,
   "id": "convertible-canvas",
   "metadata": {},
   "outputs": [],
   "source": [
    "df.corr()"
   ]
  },
  {
   "cell_type": "code",
   "execution_count": null,
   "id": "invalid-growing",
   "metadata": {},
   "outputs": [],
   "source": [
    "plt.figure(figsize=(16, 6))\n",
    "sns.heatmap(df.corr(),cmap='BrBG')"
   ]
  }
 ],
 "metadata": {
  "kernelspec": {
   "display_name": "Python 3",
   "language": "python",
   "name": "python3"
  },
  "language_info": {
   "codemirror_mode": {
    "name": "ipython",
    "version": 3
   },
   "file_extension": ".py",
   "mimetype": "text/x-python",
   "name": "python",
   "nbconvert_exporter": "python",
   "pygments_lexer": "ipython3",
   "version": "3.7.5"
  }
 },
 "nbformat": 4,
 "nbformat_minor": 5
}
